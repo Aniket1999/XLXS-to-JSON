{
 "cells": [
  {
   "cell_type": "code",
   "execution_count": 6,
   "metadata": {},
   "outputs": [
    {
     "name": "stdout",
     "output_type": "stream",
     "text": [
      "(Column #) type:value\n",
      "(0) text sample\n",
      "(1) text blue LED value\n",
      "(2) text green LED value\n",
      "(3) text red LED value\n",
      "[text:'sample', text:'blue LED value', text:'green LED value', text:'red LED value']\n",
      "[text:'clear water', number:97.0, number:19.0, number:79.0]\n",
      "[text:'blue water', number:73.0, number:11.0, number:13.0]\n",
      "[text:'green water', number:35.0, number:15.0, number:14.0]\n",
      "[text:'tea water', number:33.0, number:13.0, number:70.0]\n",
      "[empty:'', text:'Example of Data Table 2', empty:'', empty:'']\n",
      "[text:'sample', text:'blue % transmitted', text:'green % transmitted', text:'red % transmitted']\n",
      "[text:'clear water', text:'97/97 = 100%', text:'19/19 = 100%', text:'79/79 = 100%']\n",
      "[text:'blue water', text:'73/97 = 75%', text:'11/19 = 58%', text:'13/79 = 17%']\n",
      "[text:'green water', text:'35/97 = 36%', text:'15/19 = 79%', text:'14/79 = 18%']\n",
      "[text:'tea water', text:'33/97 = 34%', text:'13/19 = 68%', text:'70/79 = 91%']\n",
      "[text:'Example of Measuring Ocean Color Graph 1', empty:'', empty:'', empty:'']\n",
      "[text:'sample', text:'blue LED value', text:'green LED value', text:'red LED value']\n",
      "[text:'+ 1 tsp milk', number:13.0, number:14.0, number:12.0]\n",
      "[text:'+1tsp milk + blue', number:10.0, number:9.0, number:6.0]\n",
      "[text:'+1tsp milk +green', number:9.0, number:13.0, number:7.0]\n",
      "[text:'+1tsp milk + tea', number:7.0, number:9.0, number:9.0]\n",
      "[empty:'', text:'Example of Data Table 4', empty:'', empty:'']\n",
      "[text:'Water sample', text:'blue % transmitted', text:'green % transmitted', text:'red % transmitted']\n",
      "[text:'+ 1 tsp milk', text:'13/13 = 100%', text:'14/14 = 100%', text:'12/12 = 100%']\n",
      "[text:'+1tsp milk + blue', text:'10/13 = 77%', text:'9/14 = 64%', text:'6/12 = 50%']\n",
      "[text:'+1tsp milk +green', text:'9/13 = 69%', text:'13/14 = 93%', text:'7/12 = 58%']\n",
      "[text:'+1tsp milk + tea', text:'7/13 = 54%', text:'9/14 = 69%', text:'9/12 = 75%']\n"
     ]
    }
   ],
   "source": [
    "\n",
    "import xlrd\n",
    "import xlwt\n",
    "import os\n",
    "from os.path import abspath\n",
    "import sys\n",
    "\n",
    "\n",
    "\n",
    "\n",
    "def open_file(path):\n",
    "    xl_workbook = xlrd.open_workbook(path)\n",
    "    \n",
    "    sheet_names = xl_workbook.sheet_names()\n",
    "#     print('Sheet Names', sheet_names)\n",
    "    \n",
    "    xl_sheet = xl_workbook.sheet_by_name(sheet_names[0])\n",
    "    \n",
    "    xl_sheet = xl_workbook.sheet_by_index(0)\n",
    "#     print ('Sheet name: %s' % xl_sheet.name)\n",
    "#     print(xl_sheet.name)\n",
    "    row = xl_sheet.row(0)  \n",
    "#     print(row)\n",
    "    \n",
    "    from xlrd.sheet import ctype_text   \n",
    "    \n",
    "    print('(Column #) type:value')\n",
    "    for idx, cell_obj in enumerate(row):\n",
    "        cell_type_str = ctype_text.get(cell_obj.ctype, 'unknown type')\n",
    "        print('(%s) %s %s' % (idx, cell_type_str, cell_obj.value))\n",
    "    \n",
    "    num_cols = xl_sheet.ncols\n",
    "#     print(num_cols)\n",
    "    \n",
    "    ar =[[]]\n",
    "    for row_idx in range(0, xl_sheet.nrows):  \n",
    "#         print ('-'*40)\n",
    "#         print ('Row: %s' % row_idx)   \n",
    "        a=[]\n",
    "        for col_idx in range(0, num_cols):\n",
    "            cell_obj = xl_sheet.cell(row_idx, col_idx)  \n",
    "#             print ('Column: [%s] cell_obj: [%s]' % (col_idx, cell_obj))\n",
    "            a.append(cell_obj)\n",
    "        ar.append(a)\n",
    "        print(a)\n",
    "    with open('answer.txt', 'w') as f:\n",
    "        for item in ar:\n",
    "            f.write(\"%s\\n\" % item)\n",
    "        \n",
    "#     print(ar)\n",
    "            \n",
    "            \n",
    "                               \n",
    "                                \n",
    "if __name__ == \"__main__\":\n",
    "    f_path = abspath(\"output.xlsx\")\n",
    "    open_file(f_path)                                "
   ]
  },
  {
   "cell_type": "code",
   "execution_count": null,
   "metadata": {},
   "outputs": [],
   "source": []
  },
  {
   "cell_type": "code",
   "execution_count": null,
   "metadata": {},
   "outputs": [],
   "source": []
  }
 ],
 "metadata": {
  "kernelspec": {
   "display_name": "Python 3",
   "language": "python",
   "name": "python3"
  },
  "language_info": {
   "codemirror_mode": {
    "name": "ipython",
    "version": 3
   },
   "file_extension": ".py",
   "mimetype": "text/x-python",
   "name": "python",
   "nbconvert_exporter": "python",
   "pygments_lexer": "ipython3",
   "version": "3.7.1"
  }
 },
 "nbformat": 4,
 "nbformat_minor": 2
}
